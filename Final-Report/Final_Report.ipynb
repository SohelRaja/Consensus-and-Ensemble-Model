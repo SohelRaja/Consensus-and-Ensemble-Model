{
  "nbformat": 4,
  "nbformat_minor": 0,
  "metadata": {
    "colab": {
      "name": "Final_Report.ipynb",
      "provenance": [],
      "authorship_tag": "ABX9TyNuQonTDEE7fpiX5ArnIskl",
      "include_colab_link": true
    },
    "kernelspec": {
      "name": "python3",
      "display_name": "Python 3"
    }
  },
  "cells": [
    {
      "cell_type": "markdown",
      "metadata": {
        "id": "view-in-github",
        "colab_type": "text"
      },
      "source": [
        "<a href=\"https://colab.research.google.com/github/shankha2018/UndErNsembled/blob/master/Final-Report/Final_Report.ipynb\" target=\"_parent\"><img src=\"https://colab.research.google.com/assets/colab-badge.svg\" alt=\"Open In Colab\"/></a>"
      ]
    },
    {
      "cell_type": "code",
      "metadata": {
        "colab": {
          "base_uri": "https://localhost:8080/",
          "height": 195
        },
        "id": "67MMoyVDRAHX",
        "outputId": "4a058f11-48c8-42a0-e12d-25f31956c3c1"
      },
      "source": [
        "import pandas as pd\r\n",
        "report = {\r\n",
        "    \"Classifier_Model\":[\"KNN\",\"Logistic Regression\",\"Decision Tree\",\"SVM\",\"Random Forest\"],\r\n",
        "    \"Accuracy%(Imbalanced)\":[85.5,87.1,68.8,87.3,81.2],\r\n",
        "    \"Accuracy%(Balanced)\":[92.2,85.7,78.5,71.4,92.8],\r\n",
        "    \"Accuracy%_Bagging\":[71.4,85.7,\"NA\",92.8,\"NA\"],\r\n",
        "    \"Accuracy%_Boosting\":[\"NA\",85.7,71.4,71.4,\"NA\"],\r\n",
        "    \"Accuracy%_Stacking\":[82.0,88.0,\"NA\",\"NA\",\"NA\"]\r\n",
        "}\r\n",
        "report = pd.DataFrame(report)\r\n",
        "report"
      ],
      "execution_count": 22,
      "outputs": [
        {
          "output_type": "execute_result",
          "data": {
            "text/html": [
              "<div>\n",
              "<style scoped>\n",
              "    .dataframe tbody tr th:only-of-type {\n",
              "        vertical-align: middle;\n",
              "    }\n",
              "\n",
              "    .dataframe tbody tr th {\n",
              "        vertical-align: top;\n",
              "    }\n",
              "\n",
              "    .dataframe thead th {\n",
              "        text-align: right;\n",
              "    }\n",
              "</style>\n",
              "<table border=\"1\" class=\"dataframe\">\n",
              "  <thead>\n",
              "    <tr style=\"text-align: right;\">\n",
              "      <th></th>\n",
              "      <th>Classifier_Model</th>\n",
              "      <th>Accuracy%(Imbalanced)</th>\n",
              "      <th>Accuracy%(Balanced)</th>\n",
              "      <th>Accuracy%_Bagging</th>\n",
              "      <th>Accuracy%_Boosting</th>\n",
              "      <th>Accuracy%_Stacking</th>\n",
              "    </tr>\n",
              "  </thead>\n",
              "  <tbody>\n",
              "    <tr>\n",
              "      <th>0</th>\n",
              "      <td>KNN</td>\n",
              "      <td>85.5</td>\n",
              "      <td>92.2</td>\n",
              "      <td>71.4</td>\n",
              "      <td>NA</td>\n",
              "      <td>82</td>\n",
              "    </tr>\n",
              "    <tr>\n",
              "      <th>1</th>\n",
              "      <td>Logistic Regression</td>\n",
              "      <td>87.1</td>\n",
              "      <td>85.7</td>\n",
              "      <td>85.7</td>\n",
              "      <td>85.7</td>\n",
              "      <td>88</td>\n",
              "    </tr>\n",
              "    <tr>\n",
              "      <th>2</th>\n",
              "      <td>Decision Tree</td>\n",
              "      <td>68.8</td>\n",
              "      <td>78.5</td>\n",
              "      <td>NA</td>\n",
              "      <td>71.4</td>\n",
              "      <td>NA</td>\n",
              "    </tr>\n",
              "    <tr>\n",
              "      <th>3</th>\n",
              "      <td>SVM</td>\n",
              "      <td>87.3</td>\n",
              "      <td>71.4</td>\n",
              "      <td>92.8</td>\n",
              "      <td>71.4</td>\n",
              "      <td>NA</td>\n",
              "    </tr>\n",
              "    <tr>\n",
              "      <th>4</th>\n",
              "      <td>Random Forest</td>\n",
              "      <td>81.2</td>\n",
              "      <td>92.8</td>\n",
              "      <td>NA</td>\n",
              "      <td>NA</td>\n",
              "      <td>NA</td>\n",
              "    </tr>\n",
              "  </tbody>\n",
              "</table>\n",
              "</div>"
            ],
            "text/plain": [
              "      Classifier_Model  ...  Accuracy%_Stacking\n",
              "0                  KNN  ...                  82\n",
              "1  Logistic Regression  ...                  88\n",
              "2        Decision Tree  ...                  NA\n",
              "3                  SVM  ...                  NA\n",
              "4        Random Forest  ...                  NA\n",
              "\n",
              "[5 rows x 6 columns]"
            ]
          },
          "metadata": {
            "tags": []
          },
          "execution_count": 22
        }
      ]
    },
    {
      "cell_type": "code",
      "metadata": {
        "colab": {
          "base_uri": "https://localhost:8080/",
          "height": 138
        },
        "id": "tdgrzWYaaf84",
        "outputId": "74152aa0-a79e-42f6-f43f-cae31199336d"
      },
      "source": [
        "report.style.set_table_styles( \r\n",
        "[ \r\n",
        " {'selector': 'th', \r\n",
        "  'props': [('background', 'black'),  \r\n",
        "            ('color', 'white'), ]}, \r\n",
        " {'selector': 'td', \r\n",
        "  'props': [('color', 'blue')]}, \r\n",
        "] \r\n",
        ").hide_index() "
      ],
      "execution_count": 26,
      "outputs": [
        {
          "output_type": "execute_result",
          "data": {
            "text/html": [
              "<style  type=\"text/css\" >\n",
              "    #T_c4278892_59ad_11eb_b16c_0242ac1c0002 th {\n",
              "          background: black;\n",
              "          color: white;\n",
              "    }    #T_c4278892_59ad_11eb_b16c_0242ac1c0002 td {\n",
              "          color: blue;\n",
              "    }</style><table id=\"T_c4278892_59ad_11eb_b16c_0242ac1c0002\" ><thead>    <tr>        <th class=\"col_heading level0 col0\" >Classifier_Model</th>        <th class=\"col_heading level0 col1\" >Accuracy%(Imbalanced)</th>        <th class=\"col_heading level0 col2\" >Accuracy%(Balanced)</th>        <th class=\"col_heading level0 col3\" >Accuracy%_Bagging</th>        <th class=\"col_heading level0 col4\" >Accuracy%_Boosting</th>        <th class=\"col_heading level0 col5\" >Accuracy%_Stacking</th>    </tr></thead><tbody>\n",
              "                <tr>\n",
              "                                <td id=\"T_c4278892_59ad_11eb_b16c_0242ac1c0002row0_col0\" class=\"data row0 col0\" >KNN</td>\n",
              "                        <td id=\"T_c4278892_59ad_11eb_b16c_0242ac1c0002row0_col1\" class=\"data row0 col1\" >85.500000</td>\n",
              "                        <td id=\"T_c4278892_59ad_11eb_b16c_0242ac1c0002row0_col2\" class=\"data row0 col2\" >92.200000</td>\n",
              "                        <td id=\"T_c4278892_59ad_11eb_b16c_0242ac1c0002row0_col3\" class=\"data row0 col3\" >71.400000</td>\n",
              "                        <td id=\"T_c4278892_59ad_11eb_b16c_0242ac1c0002row0_col4\" class=\"data row0 col4\" >NA</td>\n",
              "                        <td id=\"T_c4278892_59ad_11eb_b16c_0242ac1c0002row0_col5\" class=\"data row0 col5\" >82.000000</td>\n",
              "            </tr>\n",
              "            <tr>\n",
              "                                <td id=\"T_c4278892_59ad_11eb_b16c_0242ac1c0002row1_col0\" class=\"data row1 col0\" >Logistic Regression</td>\n",
              "                        <td id=\"T_c4278892_59ad_11eb_b16c_0242ac1c0002row1_col1\" class=\"data row1 col1\" >87.100000</td>\n",
              "                        <td id=\"T_c4278892_59ad_11eb_b16c_0242ac1c0002row1_col2\" class=\"data row1 col2\" >85.700000</td>\n",
              "                        <td id=\"T_c4278892_59ad_11eb_b16c_0242ac1c0002row1_col3\" class=\"data row1 col3\" >85.700000</td>\n",
              "                        <td id=\"T_c4278892_59ad_11eb_b16c_0242ac1c0002row1_col4\" class=\"data row1 col4\" >85.700000</td>\n",
              "                        <td id=\"T_c4278892_59ad_11eb_b16c_0242ac1c0002row1_col5\" class=\"data row1 col5\" >88.000000</td>\n",
              "            </tr>\n",
              "            <tr>\n",
              "                                <td id=\"T_c4278892_59ad_11eb_b16c_0242ac1c0002row2_col0\" class=\"data row2 col0\" >Decision Tree</td>\n",
              "                        <td id=\"T_c4278892_59ad_11eb_b16c_0242ac1c0002row2_col1\" class=\"data row2 col1\" >68.800000</td>\n",
              "                        <td id=\"T_c4278892_59ad_11eb_b16c_0242ac1c0002row2_col2\" class=\"data row2 col2\" >78.500000</td>\n",
              "                        <td id=\"T_c4278892_59ad_11eb_b16c_0242ac1c0002row2_col3\" class=\"data row2 col3\" >NA</td>\n",
              "                        <td id=\"T_c4278892_59ad_11eb_b16c_0242ac1c0002row2_col4\" class=\"data row2 col4\" >71.400000</td>\n",
              "                        <td id=\"T_c4278892_59ad_11eb_b16c_0242ac1c0002row2_col5\" class=\"data row2 col5\" >NA</td>\n",
              "            </tr>\n",
              "            <tr>\n",
              "                                <td id=\"T_c4278892_59ad_11eb_b16c_0242ac1c0002row3_col0\" class=\"data row3 col0\" >SVM</td>\n",
              "                        <td id=\"T_c4278892_59ad_11eb_b16c_0242ac1c0002row3_col1\" class=\"data row3 col1\" >87.300000</td>\n",
              "                        <td id=\"T_c4278892_59ad_11eb_b16c_0242ac1c0002row3_col2\" class=\"data row3 col2\" >71.400000</td>\n",
              "                        <td id=\"T_c4278892_59ad_11eb_b16c_0242ac1c0002row3_col3\" class=\"data row3 col3\" >92.800000</td>\n",
              "                        <td id=\"T_c4278892_59ad_11eb_b16c_0242ac1c0002row3_col4\" class=\"data row3 col4\" >71.400000</td>\n",
              "                        <td id=\"T_c4278892_59ad_11eb_b16c_0242ac1c0002row3_col5\" class=\"data row3 col5\" >NA</td>\n",
              "            </tr>\n",
              "            <tr>\n",
              "                                <td id=\"T_c4278892_59ad_11eb_b16c_0242ac1c0002row4_col0\" class=\"data row4 col0\" >Random Forest</td>\n",
              "                        <td id=\"T_c4278892_59ad_11eb_b16c_0242ac1c0002row4_col1\" class=\"data row4 col1\" >81.200000</td>\n",
              "                        <td id=\"T_c4278892_59ad_11eb_b16c_0242ac1c0002row4_col2\" class=\"data row4 col2\" >92.800000</td>\n",
              "                        <td id=\"T_c4278892_59ad_11eb_b16c_0242ac1c0002row4_col3\" class=\"data row4 col3\" >NA</td>\n",
              "                        <td id=\"T_c4278892_59ad_11eb_b16c_0242ac1c0002row4_col4\" class=\"data row4 col4\" >NA</td>\n",
              "                        <td id=\"T_c4278892_59ad_11eb_b16c_0242ac1c0002row4_col5\" class=\"data row4 col5\" >NA</td>\n",
              "            </tr>\n",
              "    </tbody></table>"
            ],
            "text/plain": [
              "<pandas.io.formats.style.Styler at 0x7fcecfe21c88>"
            ]
          },
          "metadata": {
            "tags": []
          },
          "execution_count": 26
        }
      ]
    },
    {
      "cell_type": "code",
      "metadata": {
        "colab": {
          "base_uri": "https://localhost:8080/"
        },
        "id": "lYuSYyx4aJyo",
        "outputId": "4677c757-25a0-43ac-8050-1dc5dba8a032"
      },
      "source": [
        "print(\"Stacking Accuracy: 88.0% \")"
      ],
      "execution_count": 27,
      "outputs": [
        {
          "output_type": "stream",
          "text": [
            "Stacking Accuracy: 88.0% \n"
          ],
          "name": "stdout"
        }
      ]
    },
    {
      "cell_type": "code",
      "metadata": {
        "colab": {
          "base_uri": "https://localhost:8080/",
          "height": 17
        },
        "id": "ZVYCf0j8VQED",
        "outputId": "3082a00e-ed5d-488b-9238-b61e56689100"
      },
      "source": [
        "report.to_csv('Final_report.csv', index = False)\r\n",
        "from google.colab import files\r\n",
        "files.download(\"Final_report.csv\")"
      ],
      "execution_count": 28,
      "outputs": [
        {
          "output_type": "display_data",
          "data": {
            "application/javascript": [
              "\n",
              "    async function download(id, filename, size) {\n",
              "      if (!google.colab.kernel.accessAllowed) {\n",
              "        return;\n",
              "      }\n",
              "      const div = document.createElement('div');\n",
              "      const label = document.createElement('label');\n",
              "      label.textContent = `Downloading \"${filename}\": `;\n",
              "      div.appendChild(label);\n",
              "      const progress = document.createElement('progress');\n",
              "      progress.max = size;\n",
              "      div.appendChild(progress);\n",
              "      document.body.appendChild(div);\n",
              "\n",
              "      const buffers = [];\n",
              "      let downloaded = 0;\n",
              "\n",
              "      const channel = await google.colab.kernel.comms.open(id);\n",
              "      // Send a message to notify the kernel that we're ready.\n",
              "      channel.send({})\n",
              "\n",
              "      for await (const message of channel.messages) {\n",
              "        // Send a message to notify the kernel that we're ready.\n",
              "        channel.send({})\n",
              "        if (message.buffers) {\n",
              "          for (const buffer of message.buffers) {\n",
              "            buffers.push(buffer);\n",
              "            downloaded += buffer.byteLength;\n",
              "            progress.value = downloaded;\n",
              "          }\n",
              "        }\n",
              "      }\n",
              "      const blob = new Blob(buffers, {type: 'application/binary'});\n",
              "      const a = document.createElement('a');\n",
              "      a.href = window.URL.createObjectURL(blob);\n",
              "      a.download = filename;\n",
              "      div.appendChild(a);\n",
              "      a.click();\n",
              "      div.remove();\n",
              "    }\n",
              "  "
            ],
            "text/plain": [
              "<IPython.core.display.Javascript object>"
            ]
          },
          "metadata": {
            "tags": []
          }
        },
        {
          "output_type": "display_data",
          "data": {
            "application/javascript": [
              "download(\"download_dcce7c66-684b-4d98-b7dc-0944c73eb12a\", \"Final_report.csv\", 282)"
            ],
            "text/plain": [
              "<IPython.core.display.Javascript object>"
            ]
          },
          "metadata": {
            "tags": []
          }
        }
      ]
    }
  ]
}